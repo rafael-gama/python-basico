{
  "nbformat": 4,
  "nbformat_minor": 0,
  "metadata": {
    "colab": {
      "provenance": [],
      "collapsed_sections": [
        "6ufJAXRrHiOG",
        "SYniSXfRN-V4"
      ]
    },
    "kernelspec": {
      "name": "python3",
      "display_name": "Python 3"
    },
    "language_info": {
      "name": "python"
    }
  },
  "cells": [
    {
      "cell_type": "markdown",
      "source": [
        "# **Lista (list)** é uma sequencia ordenada de valores, que são identificados por um índice.\n"
      ],
      "metadata": {
        "id": "6ufJAXRrHiOG"
      }
    },
    {
      "cell_type": "code",
      "source": [
        "#A ordem importa. Apesar de ter os mesmos elementos, são listas diferentes.\n",
        "lista1 = [1,2,3,4]\n",
        "lista2 = [2,1,3,4]\n",
        "lista1 == lista2   #comparando se são iguais."
      ],
      "metadata": {
        "colab": {
          "base_uri": "https://localhost:8080/"
        },
        "id": "Dns31j_HITcG",
        "outputId": "ab9a85cf-b36b-4870-a815-156fe7a29aba"
      },
      "execution_count": 13,
      "outputs": [
        {
          "output_type": "execute_result",
          "data": {
            "text/plain": [
              "False"
            ]
          },
          "metadata": {},
          "execution_count": 13
        }
      ]
    },
    {
      "cell_type": "code",
      "source": [
        "# Lista com valores heterogêneos\n",
        "[2, 'a', 5.33, True]"
      ],
      "metadata": {
        "colab": {
          "base_uri": "https://localhost:8080/"
        },
        "id": "y4ZzWJ9QIehz",
        "outputId": "566420b5-f53d-4f71-f7de-70e5f80298d9"
      },
      "execution_count": 2,
      "outputs": [
        {
          "output_type": "execute_result",
          "data": {
            "text/plain": [
              "[2, 'a', 5.33, True]"
            ]
          },
          "metadata": {},
          "execution_count": 2
        }
      ]
    },
    {
      "cell_type": "code",
      "source": [
        "#Lista com elementos nulos\n",
        "['um', 'dois', None, 4]"
      ],
      "metadata": {
        "colab": {
          "base_uri": "https://localhost:8080/"
        },
        "id": "IPrzi9UQIquF",
        "outputId": "f83c8817-e881-4be6-dffa-eaa232716e41"
      },
      "execution_count": 4,
      "outputs": [
        {
          "output_type": "execute_result",
          "data": {
            "text/plain": [
              "['um', 'dois', None, 4]"
            ]
          },
          "metadata": {},
          "execution_count": 4
        }
      ]
    },
    {
      "cell_type": "code",
      "source": [
        "#Listas aninhadas\n",
        "lista1 = [0,1]\n",
        "lista2 = [lista1, 'dois', 'tres', [4,5], 'seis']\n"
      ],
      "metadata": {
        "id": "Z78eHjt6Iuhq"
      },
      "execution_count": 10,
      "outputs": []
    },
    {
      "cell_type": "code",
      "source": [
        "# lista vazia\n",
        "lista = []"
      ],
      "metadata": {
        "id": "T90JQF7dI7oR"
      },
      "execution_count": 14,
      "outputs": []
    },
    {
      "cell_type": "code",
      "source": [
        "# Acesso por indices\n",
        "lista = [2, 'a', 5.44 , True, None, 'casa']\n",
        "\n",
        "print(lista[0])\n",
        "print(lista[3])\n",
        "print(lista[-1])  #ultimo elemento da lista\n"
      ],
      "metadata": {
        "colab": {
          "base_uri": "https://localhost:8080/"
        },
        "id": "RSh1MYhpM80Y",
        "outputId": "e76e9f5c-be61-4f84-d16c-9731ed04f960"
      },
      "execution_count": 15,
      "outputs": [
        {
          "output_type": "stream",
          "name": "stdout",
          "text": [
            "2\n",
            "True\n",
            "casa\n"
          ]
        }
      ]
    },
    {
      "cell_type": "code",
      "source": [
        "# Acesso por slices\n",
        "lista = [2, 'a', 5.44 , True, None, 'casa']\n",
        "\n",
        "print(lista[1:4])\n",
        "print(lista[-2:])\n",
        "print(lista[:])  #imprime toda lista\n",
        "print(lista)  #imprime toda lista\n",
        "\n",
        "\n"
      ],
      "metadata": {
        "colab": {
          "base_uri": "https://localhost:8080/"
        },
        "id": "5Pl3H70QNQ4u",
        "outputId": "1b159f0b-27a4-4b15-81d9-743f016390da"
      },
      "execution_count": 18,
      "outputs": [
        {
          "output_type": "stream",
          "name": "stdout",
          "text": [
            "['a', 5.44, True]\n",
            "[None, 'casa']\n",
            "[2, 'a', 5.44, True, None, 'casa']\n",
            "[2, 'a', 5.44, True, None, 'casa']\n"
          ]
        }
      ]
    },
    {
      "cell_type": "markdown",
      "source": [
        "# Solução do problema de encontrar a maior idade utilizando listas.\n"
      ],
      "metadata": {
        "id": "SYniSXfRN-V4"
      }
    },
    {
      "cell_type": "code",
      "source": [
        "#Cria uma lista para armazenar as idades\n",
        "idades = [13, 45, 29, 76, 21, 41, 9, 33]\n",
        "\n",
        "# Inicialmente assume que a primeira idade é a maior\n",
        "maior_idade = idades[0]\n",
        "\n",
        "# Percorre a lista verificando a maior idade\n",
        "for idade in idades:\n",
        "    if idade > maior_idade:\n",
        "        maior_idade = idade\n",
        "\n",
        "#exibe a maior idade encontrada\n",
        "print ('Maior idade: ' , maior_idade)\n",
        "\n",
        "# uma outra alternativa seria utilizar uma função para retornar o maior valor.\n",
        "print(max(idades))\n"
      ],
      "metadata": {
        "colab": {
          "base_uri": "https://localhost:8080/"
        },
        "id": "ew0nZgfTOI0d",
        "outputId": "dbe3a514-575e-462d-8cd0-a4f489a85bdb"
      },
      "execution_count": 24,
      "outputs": [
        {
          "output_type": "stream",
          "name": "stdout",
          "text": [
            "Maior idade:  76\n",
            "76\n"
          ]
        }
      ]
    },
    {
      "cell_type": "markdown",
      "source": [
        "# Alteração da lista"
      ],
      "metadata": {
        "id": "zlXI4qQHS4_k"
      }
    },
    {
      "cell_type": "code",
      "source": [
        "# Criar uma lista inicial, com elementos heterogêneos\n",
        "lista = [2, 'a', 'b', 'c', 5.44, True]"
      ],
      "metadata": {
        "id": "gnsCu5BKTYnn"
      },
      "execution_count": 26,
      "outputs": []
    },
    {
      "cell_type": "code",
      "source": [
        "# Adiciona um novo elemento na lista método append\n",
        "lista.append(999)\n",
        "print(lista)"
      ],
      "metadata": {
        "colab": {
          "base_uri": "https://localhost:8080/"
        },
        "id": "fz7T_Fr8TeE6",
        "outputId": "cd868cab-6e1c-4a1a-9add-20a115c6bb81"
      },
      "execution_count": 27,
      "outputs": [
        {
          "output_type": "stream",
          "name": "stdout",
          "text": [
            "[2, 'a', 'b', 'c', 5.44, True, 999]\n"
          ]
        }
      ]
    },
    {
      "cell_type": "code",
      "source": [
        "# Altera o valor do quarto e ultimo elemento\n",
        "lista[3] = 'a'\n",
        "lista[-1] = lista[-1] + 1\n",
        "print(lista)"
      ],
      "metadata": {
        "colab": {
          "base_uri": "https://localhost:8080/"
        },
        "id": "OxWWan8LT3Pa",
        "outputId": "dbb10e2f-bebd-45d8-a4b2-cc2fbbc5a9dd"
      },
      "execution_count": 28,
      "outputs": [
        {
          "output_type": "stream",
          "name": "stdout",
          "text": [
            "[2, 'a', 'b', 'a', 5.44, True, 1000]\n"
          ]
        }
      ]
    },
    {
      "cell_type": "code",
      "source": [
        "# Adiciona novos elementos. Pode-se utilizar expressões.\n",
        "lista.append(None)\n",
        "lista.append(21/2)\n",
        "lista.append(2==1)\n",
        "print(lista)\n"
      ],
      "metadata": {
        "colab": {
          "base_uri": "https://localhost:8080/"
        },
        "id": "YQJh1XPfUeP9",
        "outputId": "e780714a-c400-469d-b468-2f9134bc207e"
      },
      "execution_count": 29,
      "outputs": [
        {
          "output_type": "stream",
          "name": "stdout",
          "text": [
            "[2, 'a', 'b', 'a', 5.44, True, 1000, None, 10.5, False]\n"
          ]
        }
      ]
    },
    {
      "cell_type": "code",
      "source": [],
      "metadata": {
        "id": "nAzwxP-QU3nQ"
      },
      "execution_count": null,
      "outputs": []
    }
  ]
}